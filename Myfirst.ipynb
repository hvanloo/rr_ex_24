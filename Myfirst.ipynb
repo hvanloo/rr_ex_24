{
 "cells": [
  {
   "cell_type": "code",
   "execution_count": null,
   "id": "48983dfd",
   "metadata": {},
   "outputs": [],
   "source": [
    "import numpy as np\n",
    "import matplotlib.pyplot as plt\n",
    "import ipywidgets as widgets\n",
    "%matplotlib inline"
   ]
  },
  {
   "cell_type": "code",
   "execution_count": null,
   "id": "af9eb868",
   "metadata": {},
   "outputs": [],
   "source": []
  },
  {
   "cell_type": "code",
   "execution_count": 33,
   "id": "7a0e66d9",
   "metadata": {},
   "outputs": [
    {
     "name": "stdout",
     "output_type": "stream",
     "text": [
      "GE_450w SyMRI_Scan1 401_WM_AX\n",
      "GE_450w SyMRI_Scan1 402_GM_AX\n",
      "GE_450w SyMRI_Scan1 403_MYC_AX\n",
      "GE_450w SyMRI_Scan1 404_PD_MAP_AX\n",
      "GE_450w SyMRI_Scan1 405_T1_MAP_AX\n",
      "GE_450w SyMRI_Scan1 406_T2_MAP_AX\n",
      "GE_450w SyMRI_Scan2 501_WM_AX\n",
      "GE_450w SyMRI_Scan2 502_GM_AX\n",
      "GE_450w SyMRI_Scan2 503_MYC_AX\n",
      "GE_450w SyMRI_Scan2 504_PD_MAP_AX\n",
      "GE_450w SyMRI_Scan2 505_T1_MAP_AX\n",
      "GE_450w SyMRI_Scan2 506_T2_MAP_AX\n",
      "GE_450w SyMRI_Scan3 601_WM_AX\n",
      "GE_450w SyMRI_Scan3 602_GM_AX\n",
      "GE_450w SyMRI_Scan3 603_MYC_AX\n",
      "GE_450w SyMRI_Scan3 604_PD_MAP_AX\n",
      "GE_450w SyMRI_Scan3 605_T1_MAP_AX\n",
      "GE_450w SyMRI_Scan3 606_T2_MAP_AX\n",
      "GE_450w SyMRI_Scan4 901_WM_AX\n",
      "GE_450w SyMRI_Scan4 902_GM_AX\n",
      "GE_450w SyMRI_Scan4 903_MYC_AX\n",
      "GE_450w SyMRI_Scan4 904_PD_MAP_AX\n",
      "GE_450w SyMRI_Scan4 905_T1_MAP_AX\n",
      "GE_450w SyMRI_Scan4 906_T2_MAP_AX\n",
      "GE_450w SyMRI_Scan5 1201_WM_AX\n",
      "GE_450w SyMRI_Scan5 1202_GM_AX\n",
      "GE_450w SyMRI_Scan5 1203_MYC_AX\n",
      "GE_450w SyMRI_Scan5 1204_PD_MAP_AX\n",
      "GE_450w SyMRI_Scan5 1205_T1_MAP_AX\n",
      "GE_450w SyMRI_Scan5 1206_T2_MAP_AX\n",
      "GE_750w SyMRI_Scan1 401_WM_AX\n",
      "GE_750w SyMRI_Scan1 402_GM_AX\n",
      "GE_750w SyMRI_Scan1 403_MYC_AX\n",
      "GE_750w SyMRI_Scan1 404_PD_MAP_AX\n",
      "GE_750w SyMRI_Scan1 405_T1_MAP_AX\n",
      "GE_750w SyMRI_Scan1 406_T2_MAP_AX\n",
      "GE_750w SyMRI_Scan2 501_WM_AX\n",
      "GE_750w SyMRI_Scan2 502_GM_AX\n",
      "GE_750w SyMRI_Scan2 503_MYC_AX\n",
      "GE_750w SyMRI_Scan2 504_PD_MAP_AX\n",
      "GE_750w SyMRI_Scan2 505_T1_MAP_AX\n",
      "GE_750w SyMRI_Scan2 506_T2_MAP_AX\n",
      "GE_750w SyMRI_Scan3 601_WM_AX\n",
      "GE_750w SyMRI_Scan3 602_GM_AX\n",
      "GE_750w SyMRI_Scan3 603_MYC_AX\n",
      "GE_750w SyMRI_Scan3 604_PD_MAP_AX\n",
      "GE_750w SyMRI_Scan3 605_T1_MAP_AX\n",
      "GE_750w SyMRI_Scan3 606_T2_MAP_AX\n",
      "GE_750w SyMRI_Scan4 1001_WM_AX\n",
      "GE_750w SyMRI_Scan4 1002_GM_AX\n",
      "GE_750w SyMRI_Scan4 1003_MYC_AX\n",
      "GE_750w SyMRI_Scan4 1004_PD_MAP_AX\n",
      "GE_750w SyMRI_Scan4 1005_T1_MAP_AX\n",
      "GE_750w SyMRI_Scan4 1006_T2_MAP_AX\n",
      "GE_750w SyMRI_Scan5 1401_WM_AX\n",
      "GE_750w SyMRI_Scan5 1402_GM_AX\n",
      "GE_750w SyMRI_Scan5 1403_MYC_AX\n",
      "GE_750w SyMRI_Scan5 1404_PD_MAP_AX\n",
      "GE_750w SyMRI_Scan5 1405_T1_MAP_AX\n",
      "GE_750w SyMRI_Scan5 1406_T2_MAP_AX\n",
      "Philips_Ingenia SyMRI_Scan1 301004_WM_AX\n",
      "Philips_Ingenia SyMRI_Scan1 301005_GM_AX\n",
      "Philips_Ingenia SyMRI_Scan1 301006_MYC_AX\n",
      "Philips_Ingenia SyMRI_Scan1 301007_PD_MAP_AX\n",
      "Philips_Ingenia SyMRI_Scan1 301008_T1_MAP_AX\n",
      "Philips_Ingenia SyMRI_Scan1 301009_T2_MAP_AX\n",
      "Philips_Ingenia SyMRI_Scan2 401004_WM_AX\n",
      "Philips_Ingenia SyMRI_Scan2 401005_GM_AX\n",
      "Philips_Ingenia SyMRI_Scan2 401006_MYC_AX\n",
      "Philips_Ingenia SyMRI_Scan2 401007_PD_MAP_AX\n",
      "Philips_Ingenia SyMRI_Scan2 401008_T1_MAP_AX\n",
      "Philips_Ingenia SyMRI_Scan2 401009_T2_MAP_AX\n",
      "Philips_Ingenia SyMRI_Scan3 501004_WM_AX\n",
      "Philips_Ingenia SyMRI_Scan3 501005_GM_AX\n",
      "Philips_Ingenia SyMRI_Scan3 501006_MYC_AX\n",
      "Philips_Ingenia SyMRI_Scan3 501007_PD_MAP_AX\n",
      "Philips_Ingenia SyMRI_Scan3 501008_T1_MAP_AX\n",
      "Philips_Ingenia SyMRI_Scan3 501009_T2_MAP_AX\n",
      "Philips_Ingenia SyMRI_Scan4 701004_WM_AX\n",
      "Philips_Ingenia SyMRI_Scan4 701005_GM_AX\n",
      "Philips_Ingenia SyMRI_Scan4 701006_MYC_AX\n",
      "Philips_Ingenia SyMRI_Scan4 701007_PD_MAP_AX\n",
      "Philips_Ingenia SyMRI_Scan4 701008_T1_MAP_AX\n",
      "Philips_Ingenia SyMRI_Scan4 701009_T2_MAP_AX\n",
      "Philips_Ingenia SyMRI_Scan5 901004_WM_AX\n",
      "Philips_Ingenia SyMRI_Scan5 901005_GM_AX\n",
      "Philips_Ingenia SyMRI_Scan5 901006_MYC_AX\n",
      "Philips_Ingenia SyMRI_Scan5 901007_PD_MAP_AX\n",
      "Philips_Ingenia SyMRI_Scan5 901008_T1_MAP_AX\n",
      "Philips_Ingenia SyMRI_Scan5 901009_T2_MAP_AX\n",
      "Philips_Ingenia_3T SyMRI_Scan1 301003_WM_AX\n",
      "Philips_Ingenia_3T SyMRI_Scan1 301004_GM_AX\n",
      "Philips_Ingenia_3T SyMRI_Scan1 301005_MYC_AX\n",
      "Philips_Ingenia_3T SyMRI_Scan1 301006_PD_MAP_AX\n",
      "Philips_Ingenia_3T SyMRI_Scan1 301007_T1_MAP_AX\n",
      "Philips_Ingenia_3T SyMRI_Scan1 301008_T2_MAP_AX\n",
      "Philips_Ingenia_3T SyMRI_Scan2 401003_WM_AX\n",
      "Philips_Ingenia_3T SyMRI_Scan2 401004_GM_AX\n",
      "Philips_Ingenia_3T SyMRI_Scan2 401005_MYC_AX\n",
      "Philips_Ingenia_3T SyMRI_Scan2 401006_PD_MAP_AX\n",
      "Philips_Ingenia_3T SyMRI_Scan2 401007_T1_MAP_AX\n",
      "Philips_Ingenia_3T SyMRI_Scan2 401008_T2_MAP_AX\n",
      "Philips_Ingenia_3T SyMRI_Scan3 501003_WM_AX\n",
      "Philips_Ingenia_3T SyMRI_Scan3 501004_GM_AX\n",
      "Philips_Ingenia_3T SyMRI_Scan3 501005_MYC_AX\n",
      "Philips_Ingenia_3T SyMRI_Scan3 501006_PD_MAP_AX\n",
      "Philips_Ingenia_3T SyMRI_Scan3 501007_T1_MAP_AX\n",
      "Philips_Ingenia_3T SyMRI_Scan3 501008_T2_MAP_AX\n",
      "Philips_Ingenia_3T SyMRI_Scan4 701003_WM_AX\n",
      "Philips_Ingenia_3T SyMRI_Scan4 701004_GM_AX\n",
      "Philips_Ingenia_3T SyMRI_Scan4 701005_MYC_AX\n",
      "Philips_Ingenia_3T SyMRI_Scan4 701006_PD_MAP_AX\n",
      "Philips_Ingenia_3T SyMRI_Scan4 701007_T1_MAP_AX\n",
      "Philips_Ingenia_3T SyMRI_Scan4 701008_T2_MAP_AX\n",
      "Philips_Ingenia_3T SyMRI_Scan5 901003_WM_AX\n",
      "Philips_Ingenia_3T SyMRI_Scan5 901004_GM_AX\n",
      "Philips_Ingenia_3T SyMRI_Scan5 901005_MYC_AX\n",
      "Philips_Ingenia_3T SyMRI_Scan5 901006_PD_MAP_AX\n",
      "Philips_Ingenia_3T SyMRI_Scan5 901007_T1_MAP_AX\n",
      "Philips_Ingenia_3T SyMRI_Scan5 901008_T2_MAP_AX\n",
      "Siemens_Aera_20191122 SyMRI_Scan1 401_WM_AX\n",
      "Siemens_Aera_20191122 SyMRI_Scan1 402_GM_AX\n",
      "Siemens_Aera_20191122 SyMRI_Scan1 403_MYC_AX\n",
      "Siemens_Aera_20191122 SyMRI_Scan1 404_PD_MAP_AX\n",
      "Siemens_Aera_20191122 SyMRI_Scan1 405_T1_MAP_AX\n",
      "Siemens_Aera_20191122 SyMRI_Scan1 406_T2_MAP_AX\n",
      "Siemens_Aera_20191122 SyMRI_Scan2 501_WM_AX\n",
      "Siemens_Aera_20191122 SyMRI_Scan2 502_GM_AX\n",
      "Siemens_Aera_20191122 SyMRI_Scan2 503_MYC_AX\n",
      "Siemens_Aera_20191122 SyMRI_Scan2 504_PD_MAP_AX\n",
      "Siemens_Aera_20191122 SyMRI_Scan2 505_T1_MAP_AX\n",
      "Siemens_Aera_20191122 SyMRI_Scan2 506_T2_MAP_AX\n",
      "Siemens_Aera_20191122 SyMRI_Scan3 801_WM_AX\n",
      "Siemens_Aera_20191122 SyMRI_Scan3 802_GM_AX\n",
      "Siemens_Aera_20191122 SyMRI_Scan3 803_MYC_AX\n",
      "Siemens_Aera_20191122 SyMRI_Scan3 804_PD_MAP_AX\n",
      "Siemens_Aera_20191122 SyMRI_Scan3 805_T1_MAP_AX\n",
      "Siemens_Aera_20191122 SyMRI_Scan3 806_T2_MAP_AX\n",
      "Siemens_Aera_20191122 SyMRI_Scan4 1001_WM_AX\n",
      "Siemens_Aera_20191122 SyMRI_Scan4 1002_GM_AX\n",
      "Siemens_Aera_20191122 SyMRI_Scan4 1003_MYC_AX\n",
      "Siemens_Aera_20191122 SyMRI_Scan4 1004_PD_MAP_AX\n",
      "Siemens_Aera_20191122 SyMRI_Scan4 1005_T1_MAP_AX\n",
      "Siemens_Aera_20191122 SyMRI_Scan4 1006_T2_MAP_AX\n",
      "Siemens_Aera_20191122 SyMRI_Scan5 1401_WM_AX\n",
      "Siemens_Aera_20191122 SyMRI_Scan5 1402_GM_AX\n",
      "Siemens_Aera_20191122 SyMRI_Scan5 1403_MYC_AX\n",
      "Siemens_Aera_20191122 SyMRI_Scan5 1404_PD_MAP_AX\n",
      "Siemens_Aera_20191122 SyMRI_Scan5 1405_T1_MAP_AX\n",
      "Siemens_Aera_20191122 SyMRI_Scan5 1406_T2_MAP_AX\n",
      "Siemens_Prisma SyMRI_Scan1 301_WM_AX\n",
      "Siemens_Prisma SyMRI_Scan1 302_GM_AX\n",
      "Siemens_Prisma SyMRI_Scan1 303_MYC_AX\n",
      "Siemens_Prisma SyMRI_Scan1 304_PD_MAP_AX\n",
      "Siemens_Prisma SyMRI_Scan1 305_T1_MAP_AX\n",
      "Siemens_Prisma SyMRI_Scan1 306_T2_MAP_AX\n",
      "Siemens_Prisma SyMRI_Scan2 601_WM_AX\n",
      "Siemens_Prisma SyMRI_Scan2 602_GM_AX\n",
      "Siemens_Prisma SyMRI_Scan2 603_MYC_AX\n",
      "Siemens_Prisma SyMRI_Scan2 604_PD_MAP_AX\n",
      "Siemens_Prisma SyMRI_Scan2 605_T1_MAP_AX\n",
      "Siemens_Prisma SyMRI_Scan2 606_T2_MAP_AX\n",
      "Siemens_Prisma SyMRI_Scan3 801_WM_AX\n",
      "Siemens_Prisma SyMRI_Scan3 802_GM_AX\n",
      "Siemens_Prisma SyMRI_Scan3 803_MYC_AX\n",
      "Siemens_Prisma SyMRI_Scan3 804_PD_MAP_AX\n",
      "Siemens_Prisma SyMRI_Scan3 805_T1_MAP_AX\n",
      "Siemens_Prisma SyMRI_Scan3 806_T2_MAP_AX\n",
      "Siemens_Prisma SyMRI_Scan4 1101_WM_AX\n",
      "Siemens_Prisma SyMRI_Scan4 1102_GM_AX\n",
      "Siemens_Prisma SyMRI_Scan4 1103_MYC_AX\n",
      "Siemens_Prisma SyMRI_Scan4 1104_PD_MAP_AX\n",
      "Siemens_Prisma SyMRI_Scan4 1105_T1_MAP_AX\n",
      "Siemens_Prisma SyMRI_Scan4 1106_T2_MAP_AX\n",
      "Siemens_Prisma SyMRI_Scan5 1401_WM_AX\n",
      "Siemens_Prisma SyMRI_Scan5 1402_GM_AX\n",
      "Siemens_Prisma SyMRI_Scan5 1403_MYC_AX\n",
      "Siemens_Prisma SyMRI_Scan5 1404_PD_MAP_AX\n",
      "Siemens_Prisma SyMRI_Scan5 1405_T1_MAP_AX\n",
      "Siemens_Prisma SyMRI_Scan5 1406_T2_MAP_AX\n"
     ]
    }
   ],
   "source": [
    "import os\n",
    "\n",
    "folder=r\"E:\\reprod_data\\SyMRI_REPRO_anonymized\\HC3_M1990_sy_done\"\n",
    "\n",
    "for scanner in os.listdir(folder):\n",
    "    for scan in os.listdir(os.path.join(folder,scanner)):\n",
    "        for d in os.listdir(os.path.join(folder,scanner,scan)):\n",
    "            print(scanner,scan,d)\n",
    "            os.rename(os.path.join(folder,scanner,scan,d),os.path.join(folder,scanner,scan,'HC_3_'+scanner+'_'+d+'_'+scan))\n",
    "#            os.rename(os.path.join(folder,scanner,scan,d),os.path.join(folder,scanner,scan,'HC2_'+d))"
   ]
  },
  {
   "cell_type": "code",
   "execution_count": 22,
   "id": "ee8c5446",
   "metadata": {},
   "outputs": [
    {
     "data": {
      "text/plain": [
       "'E:\\\\reprod_data\\\\SyMRI_REPRO_anonymized\\\\HC2_F1988_sy_done\\\\Siemens_Prisma\\\\SyMRI_Scan5\\\\1406_T2_MAP_AX'"
      ]
     },
     "execution_count": 22,
     "metadata": {},
     "output_type": "execute_result"
    }
   ],
   "source": [
    "os.path.join(folder,scanner,scan,d)"
   ]
  },
  {
   "cell_type": "code",
   "execution_count": 24,
   "id": "d4b5ec3f",
   "metadata": {},
   "outputs": [
    {
     "data": {
      "text/plain": [
       "'E:\\\\reprod_data\\\\SyMRI_REPRO_anonymized\\\\HC2_F1988_sy_done\\\\Siemens_Prisma\\\\SyMRI_Scan5\\\\Siemens_Prisma_1406_T2_MAP_AX_SyMRI_Scan5'"
      ]
     },
     "execution_count": 24,
     "metadata": {},
     "output_type": "execute_result"
    }
   ],
   "source": [
    "os.path.join(folder,scanner,scan,scanner+'_'+d+'_'+scan)"
   ]
  },
  {
   "cell_type": "code",
   "execution_count": null,
   "id": "200b919d",
   "metadata": {},
   "outputs": [],
   "source": []
  },
  {
   "cell_type": "code",
   "execution_count": null,
   "id": "9aab02f0",
   "metadata": {},
   "outputs": [],
   "source": []
  },
  {
   "cell_type": "code",
   "execution_count": null,
   "id": "c9dc487f",
   "metadata": {},
   "outputs": [],
   "source": []
  },
  {
   "cell_type": "code",
   "execution_count": null,
   "id": "7b5fd4f8",
   "metadata": {},
   "outputs": [],
   "source": []
  },
  {
   "cell_type": "code",
   "execution_count": null,
   "id": "6ed59258",
   "metadata": {},
   "outputs": [],
   "source": []
  },
  {
   "cell_type": "code",
   "execution_count": 1,
   "id": "0b402335",
   "metadata": {},
   "outputs": [],
   "source": [
    "from ipywidgets import interact, interactive, fixed, interact_manual\n",
    "import ipywidgets as widgets"
   ]
  },
  {
   "cell_type": "code",
   "execution_count": 2,
   "id": "075212bf",
   "metadata": {},
   "outputs": [],
   "source": [
    "\n",
    "\n",
    "def f(x):\n",
    "    return x\n",
    "\n"
   ]
  },
  {
   "cell_type": "code",
   "execution_count": 4,
   "id": "db3ec0dd",
   "metadata": {
    "scrolled": false
   },
   "outputs": [
    {
     "data": {
      "application/vnd.jupyter.widget-view+json": {
       "model_id": "4ded865f22d64b2bba50f0be5e7fd5d3",
       "version_major": 2,
       "version_minor": 0
      },
      "text/plain": [
       "interactive(children=(FloatSlider(value=0.0, description='m', max=2.0, min=-2.0), FloatSlider(value=0.0, descr…"
      ]
     },
     "metadata": {},
     "output_type": "display_data"
    }
   ],
   "source": [
    "%matplotlib inline\n",
    "from ipywidgets import interactive\n",
    "import matplotlib.pyplot as plt\n",
    "import numpy as np\n",
    "\n",
    "def f(m, b):\n",
    "    plt.figure(2)\n",
    "    x = np.linspace(-10, 10, num=1000)\n",
    "    plt.plot(x, m * x + b)\n",
    "    plt.ylim(-5, 5)\n",
    "    plt.show()\n",
    "\n",
    "interactive_plot = interactive(f, m=(-2.0, 2.0), b=(-3, 3, 0.5))\n",
    "output = interactive_plot.children[-1]\n",
    "output.layout.height = '350px'\n",
    "interactive_plot\n",
    "\n"
   ]
  },
  {
   "cell_type": "code",
   "execution_count": null,
   "id": "17197969",
   "metadata": {},
   "outputs": [],
   "source": []
  },
  {
   "cell_type": "code",
   "execution_count": null,
   "id": "96c0eff6",
   "metadata": {},
   "outputs": [],
   "source": []
  },
  {
   "cell_type": "code",
   "execution_count": null,
   "id": "d34a4f05",
   "metadata": {},
   "outputs": [],
   "source": []
  },
  {
   "cell_type": "code",
   "execution_count": null,
   "id": "7791b1a7",
   "metadata": {},
   "outputs": [],
   "source": [
    "fov=8\n",
    "fig,ax=plt.subplots()\n",
    "ax.plot([-fov/2,-fov/2,fov/2,fov/2,-fov/2],[-fov/2,fov/2,fov/2,-fov/2,-fov/2])\n",
    "ax.set_xlim(-fov,fov)\n",
    "ax.set_ylim(-fov,fov)\n",
    "ax.set_aspect('equal')\n",
    "a=np.array([-fov,0])\n",
    "b=np.array([0,0])\n",
    "c=np.array([fov,0])\n",
    "\n",
    "pl=[a,b,c]\n",
    "\n",
    "for scale in range(1):\n",
    "    print(f'scale: {scale}')\n",
    "    \n",
    "    d=fov/2\n",
    "    print(d)\n",
    "    if np.linalg.norm(pl[1])<4:\n",
    "        #create local grid\n",
    "        lgrid=[b-np.array([-d/2,-d/2]),b-np.array([-d/2,d/2]),b-np.array([d/2,-d/2]),b-np.array([d/2,d/2])]\n",
    "        min_d=np.inf\n",
    "        for g in lgrid:\n",
    "            dd=np.linalg.norm(pl[0]-g)\n",
    "            if dd<min_d:\n",
    "                alpha=g\n",
    "        h_v_index=np.argmin(c-b)\n",
    "        for g in lgrid:\n",
    "            \n",
    "    pl_arr=np.stack(pl)\n",
    "    ax.plot(pl_arr[:,0],pl_arr[:,1],'.-')\n",
    "    "
   ]
  },
  {
   "cell_type": "code",
   "execution_count": null,
   "id": "3ffc4117",
   "metadata": {},
   "outputs": [],
   "source": [
    "np.argmin(c-b)"
   ]
  },
  {
   "cell_type": "code",
   "execution_count": null,
   "id": "88d7833e",
   "metadata": {},
   "outputs": [],
   "source": []
  },
  {
   "cell_type": "code",
   "execution_count": null,
   "id": "816fd565",
   "metadata": {},
   "outputs": [],
   "source": []
  },
  {
   "cell_type": "code",
   "execution_count": null,
   "id": "4a9897b2",
   "metadata": {},
   "outputs": [],
   "source": []
  },
  {
   "cell_type": "code",
   "execution_count": null,
   "id": "41b13503",
   "metadata": {},
   "outputs": [],
   "source": []
  },
  {
   "cell_type": "code",
   "execution_count": null,
   "id": "4cd82cfa",
   "metadata": {
    "scrolled": false
   },
   "outputs": [],
   "source": [
    "from IPython.display import display, HTML\n",
    "display(HTML(\"<style>.container { width:90% !important; }</style>\"))\n",
    "import sys,os\n",
    "import matplotlib.pyplot as plt\n",
    "import numpy as np\n",
    "%matplotlib notebook\n",
    "def S_SE(TE,TR,T1,T2,k=1,rho=1):\n",
    "    return k*rho*(1-2*np.exp(-(TR-TE/2)/T1)+np.exp(-TR/T1))*np.exp(-TE/T2)\n",
    "\n",
    "#water\n",
    "T1w=4\n",
    "T2w=2\n",
    "\n",
    "#fat\n",
    "T1f=250e-3\n",
    "T2f=70e-3\n",
    "\n",
    "n=100\n",
    "TR=np.linspace(1e-4,20,n).reshape(-1,1)\n",
    "TE=np.linspace(1e-4,.1,10).reshape(1,-1)\n",
    "\n",
    "\n",
    "\n",
    "S=S_SE(TE,TR,T1w,T2w)\n",
    "\n",
    "X,Y=np.meshgrid(TE,TR)\n",
    "\n",
    "fig=plt.figure(figsize=(10,10))\n",
    "ax = fig.add_subplot(111,projection='3d')\n",
    "#ax.plot_surface(X,Y,S_SE(TE,TR,T1w,T2w))\n",
    "for te in TE[0]:\n",
    "    ax.plot(np.ones(n)*te,TR.flatten(),S_SE(te,TR,T1w,T2w).flatten())\n",
    "\n",
    "\n",
    "#ax.plot_surface(X,Y,S_SE(TE,TR,T1f,T2f))\n",
    "\n",
    "\n",
    "ax.set_xlabel('TI(s)')\n",
    "ax.set_ylabel('TR(s)')\n",
    "ax.set_zlabel('S(a.u.)')"
   ]
  },
  {
   "cell_type": "code",
   "execution_count": null,
   "id": "6cfc1165",
   "metadata": {
    "scrolled": false
   },
   "outputs": [],
   "source": [
    "def S_IR(TI,TE,TR,T1,T2,k=1,rho=1):\n",
    "    return k*rho*(1-2*np.exp(-TI/T1)+2*np.exp(-(TR-TE/2)/T1)-np.exp(-TR/T1))*np.exp(-TE/T2)\n",
    "\n",
    "#water\n",
    "T1w=4\n",
    "T2w=2\n",
    "\n",
    "#fat\n",
    "T1f=250e-3\n",
    "T2f=70e-3\n",
    "\n",
    "n=100\n",
    "TR=np.linspace(1e-4,10,n).reshape(-1,1)\n",
    "TI=np.linspace(1e-4,10,10).reshape(1,-1)\n",
    "\n",
    "\n",
    "S=S_SE(TE,TR,T1w,T2w)\n",
    "\n",
    "X,Y=np.meshgrid(TI,TR)\n",
    "\n",
    "\n",
    "\n",
    "\n",
    "for te in np.linspace(1e-2,.1,10):\n",
    "    fig=plt.figure(figsize=(10,10))\n",
    "    ax = fig.add_subplot(111,projection='3d')\n",
    "\n",
    "    ax.plot_surface(X,Y,S_IR(TI,te,TR,T1w,T2w))\n",
    "    ax.plot_surface(X,Y,S_IR(TI,te,TR,T1f,T2f))\n",
    "    ax.set_xlabel('TI(s)')\n",
    "    ax.set_ylabel('TR(s)')\n",
    "    ax.set_zlabel('S(a.u.)')\n",
    "    ax.set_title(str(te))"
   ]
  },
  {
   "cell_type": "code",
   "execution_count": null,
   "id": "a30c0dbb",
   "metadata": {},
   "outputs": [],
   "source": []
  },
  {
   "cell_type": "code",
   "execution_count": null,
   "id": "f75762b6",
   "metadata": {},
   "outputs": [],
   "source": []
  },
  {
   "cell_type": "code",
   "execution_count": null,
   "id": "8add99a3",
   "metadata": {},
   "outputs": [],
   "source": []
  },
  {
   "cell_type": "code",
   "execution_count": null,
   "id": "55965bc5",
   "metadata": {},
   "outputs": [],
   "source": []
  },
  {
   "cell_type": "code",
   "execution_count": null,
   "id": "d22a6c46",
   "metadata": {},
   "outputs": [],
   "source": []
  },
  {
   "cell_type": "code",
   "execution_count": null,
   "id": "3529bc0f",
   "metadata": {},
   "outputs": [],
   "source": []
  },
  {
   "cell_type": "code",
   "execution_count": null,
   "id": "45fde712",
   "metadata": {},
   "outputs": [],
   "source": []
  }
 ],
 "metadata": {
  "kernelspec": {
   "display_name": "Python 3 (ipykernel)",
   "language": "python",
   "name": "python3"
  },
  "language_info": {
   "codemirror_mode": {
    "name": "ipython",
    "version": 3
   },
   "file_extension": ".py",
   "mimetype": "text/x-python",
   "name": "python",
   "nbconvert_exporter": "python",
   "pygments_lexer": "ipython3",
   "version": "3.9.13"
  }
 },
 "nbformat": 4,
 "nbformat_minor": 5
}
